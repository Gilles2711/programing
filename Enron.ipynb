{
  "nbformat": 4,
  "nbformat_minor": 0,
  "metadata": {
    "colab": {
      "name": "Untitled4.ipynb",
      "provenance": [],
      "collapsed_sections": [],
      "authorship_tag": "ABX9TyN3xUH9mJ6S1h4bPJWjZtbt",
      "include_colab_link": true
    },
    "kernelspec": {
      "name": "python3",
      "display_name": "Python 3"
    },
    "language_info": {
      "name": "python"
    }
  },
  "cells": [
    {
      "cell_type": "markdown",
      "metadata": {
        "id": "view-in-github",
        "colab_type": "text"
      },
      "source": [
        "<a href=\"https://colab.research.google.com/github/Gilles2711/programing/blob/main/Enron.ipynb\" target=\"_parent\"><img src=\"https://colab.research.google.com/assets/colab-badge.svg\" alt=\"Open In Colab\"/></a>"
      ]
    },
    {
      "cell_type": "markdown",
      "source": [
        "# **Enron Email Analysis**"
      ],
      "metadata": {
        "id": "1H-AA2b3ZTUZ"
      }
    },
    {
      "cell_type": "markdown",
      "source": [
        "# Introduction"
      ],
      "metadata": {
        "id": "RakcQdiKZCy0"
      }
    },
    {
      "cell_type": "markdown",
      "source": [
        "Enrom was among of the biggest and best influential firm in the US state. It's an American energy firm that went broke in 2001, laying off hundreds of people suddenly without a job(reference). Due to increased rivalry, firm profitability began to plummet, enticing the corporation to engage in suspect accounting procedures in order to keep the difficulties hidden. Enron had to hide so information off the books because it used particular learning groups to shield its investors from learning about its demise (reference). The company's executive were arrested in connection with enormous scam (reference). As a result an inquiry was conduct across email sent by the organization in order to determine the source and wrongdoing of workers, as well as who the primary perpetrators were. The purpose of this research is to analyse data and disclose enron email activity with its clients history."
      ],
      "metadata": {
        "id": "frttcmusZM1H"
      }
    },
    {
      "cell_type": "markdown",
      "source": [
        "# Coding"
      ],
      "metadata": {
        "id": "YWO72GhJZuej"
      }
    },
    {
      "cell_type": "code",
      "source": [
        "!pip install mysql-connector-python"
      ],
      "metadata": {
        "colab": {
          "base_uri": "https://localhost:8080/"
        },
        "id": "Lxx4mqSbvqsf",
        "outputId": "4b31ea76-c00d-453d-c4e3-0ebe4899ad2b"
      },
      "execution_count": null,
      "outputs": [
        {
          "output_type": "stream",
          "name": "stdout",
          "text": [
            "Looking in indexes: https://pypi.org/simple, https://us-python.pkg.dev/colab-wheels/public/simple/\n",
            "Requirement already satisfied: mysql-connector-python in /usr/local/lib/python3.7/dist-packages (8.0.29)\n",
            "Requirement already satisfied: protobuf>=3.0.0 in /usr/local/lib/python3.7/dist-packages (from mysql-connector-python) (3.17.3)\n",
            "Requirement already satisfied: six>=1.9 in /usr/local/lib/python3.7/dist-packages (from protobuf>=3.0.0->mysql-connector-python) (1.15.0)\n"
          ]
        }
      ]
    },
    {
      "cell_type": "code",
      "source": [
        "#import Enron.db\n",
        "!wget -O enron.db https://curtin-my.sharepoint.com/:u:/g/personal/211934g_curtin_edu_au/EaYagsqa2rBi5wtHbswBH2kd2uTnz6r1ka7GI36GUQ?download=1"
      ],
      "metadata": {
        "colab": {
          "base_uri": "https://localhost:8080/"
        },
        "id": "w-dW6K-8ZzTw",
        "outputId": "8cfe6416-cf5c-4a8e-f5d1-7b3f9dc620cc"
      },
      "execution_count": null,
      "outputs": [
        {
          "output_type": "stream",
          "name": "stdout",
          "text": [
            "--2022-05-29 08:07:56--  https://curtin-my.sharepoint.com/:u:/g/personal/211934g_curtin_edu_au/EaYagsqa2rBi5wtHbswBH2kd2uTnz6r1ka7GI36GUQ?download=1\n",
            "Resolving curtin-my.sharepoint.com (curtin-my.sharepoint.com)... 13.107.136.9, 13.107.138.9\n",
            "Connecting to curtin-my.sharepoint.com (curtin-my.sharepoint.com)|13.107.136.9|:443... connected.\n",
            "HTTP request sent, awaiting response... 200 OK\n",
            "Length: 106346 (104K) [text/html]\n",
            "Saving to: ‘enron.db’\n",
            "\n",
            "enron.db            100%[===================>] 103.85K   247KB/s    in 0.4s    \n",
            "\n",
            "2022-05-29 08:07:57 (247 KB/s) - ‘enron.db’ saved [106346/106346]\n",
            "\n"
          ]
        }
      ]
    },
    {
      "cell_type": "code",
      "source": [
        "# Import sqlite3 & Pandas\n",
        "import sqlite3\n",
        "import pandas"
      ],
      "metadata": {
        "id": "KRxpS-SSa_PB"
      },
      "execution_count": null,
      "outputs": []
    },
    {
      "cell_type": "code",
      "source": [
        "#create & connection & cursor object\n",
        "conn = sqlite3.connect('/content/extract (2)')\n",
        "cur = conn.cursor()"
      ],
      "metadata": {
        "id": "waIna5lkbPbJ"
      },
      "execution_count": null,
      "outputs": []
    },
    {
      "cell_type": "code",
      "source": [
        "#Create Message table\n",
        "sql = \"\"\"\n",
        "create table if not exists Message(\n",
        "  mid INT PRIMARY KEY,\n",
        "  Sender TEXT,\n",
        "  Date REAL,\n",
        "  Subject TEXT,\n",
        "  Message_ID REAL,\n",
        "  Body TEXT,\n",
        "  Folder TEXT\n",
        ");\n",
        "\"\"\"\n",
        "# Execute query & commit transaction\n",
        "cur.execute(sql)\n",
        "conn.commit()"
      ],
      "metadata": {
        "id": "hPIH9nMldYWI"
      },
      "execution_count": null,
      "outputs": []
    },
    {
      "cell_type": "code",
      "source": [
        "#create Recipient info table\n",
        "sql = \"\"\"\n",
        "CREATE TABLE IF NOT EXISTS RecipientInfo(\n",
        "  rid TEXT PRIMARY KEY,\n",
        "  mid TEXT,\n",
        "  Rtype REAL,\n",
        "  Rvalue TEXT\n",
        ");\n",
        "\"\"\"\n",
        "#Execute query & commit transaction\n",
        "cur.execute(sql)\n",
        "conn.commit()"
      ],
      "metadata": {
        "id": "IF4nio-KeehO"
      },
      "execution_count": null,
      "outputs": []
    },
    {
      "cell_type": "code",
      "source": [
        "# create Reference info table\n",
        "sql = \"\"\"\n",
        "CREATE TABLE IF NOT EXISTS ReferenceInfo(\n",
        "  Rfid TEXT PRIMARY KEY,\n",
        "  mid TEXT,\n",
        "  Reference REAL\n",
        ");\n",
        "\"\"\"\n",
        "#Execute query & commit transaction\n",
        "cur.execute(sql)\n",
        "conn.commit()"
      ],
      "metadata": {
        "id": "1wVlUAQTfiRf"
      },
      "execution_count": null,
      "outputs": []
    },
    {
      "cell_type": "markdown",
      "source": [
        "## Emails sent by senders"
      ],
      "metadata": {
        "id": "DsdCO22MhwIY"
      }
    },
    {
      "cell_type": "code",
      "source": [
        " sql = \"\"\"\n",
        "SELECT sender, count(mid) AS message_count\n",
        " FROM message\n",
        " GROUP BY sender\n",
        " ORDER BY message_count\n",
        " DESC\n",
        " LIMIT 10\n",
        " ;\n",
        "\"\"\"\n",
        "#Execute sql query\n",
        "rows = cur.execute(sql)\n",
        "for row in rows:\n",
        "  print(row)"
      ],
      "metadata": {
        "id": "OW4RkNGUmN0V"
      },
      "execution_count": 22,
      "outputs": []
    },
    {
      "cell_type": "code",
      "source": [
        "from google.colab import drive\n",
        "drive.mount('/content/drive')"
      ],
      "metadata": {
        "id": "JAsIsIepyGfn"
      },
      "execution_count": null,
      "outputs": []
    },
    {
      "cell_type": "markdown",
      "source": [
        "# Message send per day"
      ],
      "metadata": {
        "id": "KbVWlywPnByX"
      }
    },
    {
      "cell_type": "code",
      "source": [
        "sql = \"\"\"\n",
        "SELECT date(Date) AS date_emailsent, count(mid) AS message_count\n",
        "     FROM message\n",
        "     GROUP BY date_emailsent\n",
        "     ORDER BY date_emailsent;\n",
        "\"\"\"\n",
        "#Execute SQL query\n",
        "rows = cur.execute(sql)\n",
        "for row in rows:\n",
        "  print(row)"
      ],
      "metadata": {
        "id": "ETEqAMFqnJ10"
      },
      "execution_count": null,
      "outputs": []
    },
    {
      "cell_type": "code",
      "source": [
        "import pandas as pd\n",
        "sql = \"\"\"\n",
        "SELECT date(date) AS date_emailsent,count(mid) AS MESSAGE_COUNT\n",
        "     FROM message\n",
        "     GROUP BY date_emailsent\n",
        "     ORDER BY date_emailsent;\n",
        "\"\"\"\n",
        "#Dataframe\n",
        "note_df = pd.read_sql_query(sql,conn)\n",
        "note_df"
      ],
      "metadata": {
        "colab": {
          "base_uri": "https://localhost:8080/",
          "height": 49
        },
        "id": "QsExb-qSrRaZ",
        "outputId": "36d5f5a4-9f3d-4ee5-aea7-7d14a176fefc"
      },
      "execution_count": null,
      "outputs": [
        {
          "output_type": "execute_result",
          "data": {
            "text/plain": [
              "Empty DataFrame\n",
              "Columns: [date_emailsent, MESSAGE_COUNT]\n",
              "Index: []"
            ],
            "text/html": [
              "\n",
              "  <div id=\"df-41dea780-18c9-4408-b27e-3ce2e00e5828\">\n",
              "    <div class=\"colab-df-container\">\n",
              "      <div>\n",
              "<style scoped>\n",
              "    .dataframe tbody tr th:only-of-type {\n",
              "        vertical-align: middle;\n",
              "    }\n",
              "\n",
              "    .dataframe tbody tr th {\n",
              "        vertical-align: top;\n",
              "    }\n",
              "\n",
              "    .dataframe thead th {\n",
              "        text-align: right;\n",
              "    }\n",
              "</style>\n",
              "<table border=\"1\" class=\"dataframe\">\n",
              "  <thead>\n",
              "    <tr style=\"text-align: right;\">\n",
              "      <th></th>\n",
              "      <th>date_emailsent</th>\n",
              "      <th>MESSAGE_COUNT</th>\n",
              "    </tr>\n",
              "  </thead>\n",
              "  <tbody>\n",
              "  </tbody>\n",
              "</table>\n",
              "</div>\n",
              "      <button class=\"colab-df-convert\" onclick=\"convertToInteractive('df-41dea780-18c9-4408-b27e-3ce2e00e5828')\"\n",
              "              title=\"Convert this dataframe to an interactive table.\"\n",
              "              style=\"display:none;\">\n",
              "        \n",
              "  <svg xmlns=\"http://www.w3.org/2000/svg\" height=\"24px\"viewBox=\"0 0 24 24\"\n",
              "       width=\"24px\">\n",
              "    <path d=\"M0 0h24v24H0V0z\" fill=\"none\"/>\n",
              "    <path d=\"M18.56 5.44l.94 2.06.94-2.06 2.06-.94-2.06-.94-.94-2.06-.94 2.06-2.06.94zm-11 1L8.5 8.5l.94-2.06 2.06-.94-2.06-.94L8.5 2.5l-.94 2.06-2.06.94zm10 10l.94 2.06.94-2.06 2.06-.94-2.06-.94-.94-2.06-.94 2.06-2.06.94z\"/><path d=\"M17.41 7.96l-1.37-1.37c-.4-.4-.92-.59-1.43-.59-.52 0-1.04.2-1.43.59L10.3 9.45l-7.72 7.72c-.78.78-.78 2.05 0 2.83L4 21.41c.39.39.9.59 1.41.59.51 0 1.02-.2 1.41-.59l7.78-7.78 2.81-2.81c.8-.78.8-2.07 0-2.86zM5.41 20L4 18.59l7.72-7.72 1.47 1.35L5.41 20z\"/>\n",
              "  </svg>\n",
              "      </button>\n",
              "      \n",
              "  <style>\n",
              "    .colab-df-container {\n",
              "      display:flex;\n",
              "      flex-wrap:wrap;\n",
              "      gap: 12px;\n",
              "    }\n",
              "\n",
              "    .colab-df-convert {\n",
              "      background-color: #E8F0FE;\n",
              "      border: none;\n",
              "      border-radius: 50%;\n",
              "      cursor: pointer;\n",
              "      display: none;\n",
              "      fill: #1967D2;\n",
              "      height: 32px;\n",
              "      padding: 0 0 0 0;\n",
              "      width: 32px;\n",
              "    }\n",
              "\n",
              "    .colab-df-convert:hover {\n",
              "      background-color: #E2EBFA;\n",
              "      box-shadow: 0px 1px 2px rgba(60, 64, 67, 0.3), 0px 1px 3px 1px rgba(60, 64, 67, 0.15);\n",
              "      fill: #174EA6;\n",
              "    }\n",
              "\n",
              "    [theme=dark] .colab-df-convert {\n",
              "      background-color: #3B4455;\n",
              "      fill: #D2E3FC;\n",
              "    }\n",
              "\n",
              "    [theme=dark] .colab-df-convert:hover {\n",
              "      background-color: #434B5C;\n",
              "      box-shadow: 0px 1px 3px 1px rgba(0, 0, 0, 0.15);\n",
              "      filter: drop-shadow(0px 1px 2px rgba(0, 0, 0, 0.3));\n",
              "      fill: #FFFFFF;\n",
              "    }\n",
              "  </style>\n",
              "\n",
              "      <script>\n",
              "        const buttonEl =\n",
              "          document.querySelector('#df-41dea780-18c9-4408-b27e-3ce2e00e5828 button.colab-df-convert');\n",
              "        buttonEl.style.display =\n",
              "          google.colab.kernel.accessAllowed ? 'block' : 'none';\n",
              "\n",
              "        async function convertToInteractive(key) {\n",
              "          const element = document.querySelector('#df-41dea780-18c9-4408-b27e-3ce2e00e5828');\n",
              "          const dataTable =\n",
              "            await google.colab.kernel.invokeFunction('convertToInteractive',\n",
              "                                                     [key], {});\n",
              "          if (!dataTable) return;\n",
              "\n",
              "          const docLinkHtml = 'Like what you see? Visit the ' +\n",
              "            '<a target=\"_blank\" href=https://colab.research.google.com/notebooks/data_table.ipynb>data table notebook</a>'\n",
              "            + ' to learn more about interactive tables.';\n",
              "          element.innerHTML = '';\n",
              "          dataTable['output_type'] = 'display_data';\n",
              "          await google.colab.output.renderOutput(dataTable, element);\n",
              "          const docLink = document.createElement('div');\n",
              "          docLink.innerHTML = docLinkHtml;\n",
              "          element.appendChild(docLink);\n",
              "        }\n",
              "      </script>\n",
              "    </div>\n",
              "  </div>\n",
              "  "
            ]
          },
          "metadata": {},
          "execution_count": 10
        }
      ]
    },
    {
      "cell_type": "markdown",
      "source": [
        "# Graph plot"
      ],
      "metadata": {
        "id": "W3bPbILdz_p0"
      }
    },
    {
      "cell_type": "code",
      "source": [
        "import pandas as pd\n",
        "import matplotlib.pyplot as plt"
      ],
      "metadata": {
        "id": "lN2VrM8l0DR3"
      },
      "execution_count": null,
      "outputs": []
    },
    {
      "cell_type": "code",
      "source": [
        "import pandas as pd\n",
        "from datetime import datetime, timedelta\n",
        "from matplotlib import pyplot as plt\n",
        "from matplotlib import dates as mpl_dates\n",
        "plt.style.use('seaborn')\n",
        "dates = [\n",
        "         datetime(2000, 1, 21),\n",
        "         datetime(2000, 1, 24),\n",
        "         datetime(2000, 2, 2),\n",
        "         datetime(2000, 2, 7),\n",
        "         datetime(2000,5 ,17),\n",
        "         datetime(2000, 5, 21),\n",
        "         datetime(2000, 6, 7),\n",
        "         datetime(2000, 6, 21),\n",
        "         datetime(2000, 6, 27),\n",
        "         datetime(2000, 7, 10),\n",
        "         datetime(2000, 7, 25),\n",
        "         datetime(2000, 7, 27),\n",
        "         datetime(2000, 7, 31),\n",
        "         datetime(2000, 8, 2),\n",
        "         datetime(2000, 8, 3),\n",
        "         datetime(2000, 8, 4),\n",
        "         datetime(2000, 8, 7),\n",
        "         datetime(2000, 8, 8),\n",
        "         datetime(2000, 8, 9),\n",
        "         datetime(2000, 8, 11),\n",
        "         datetime(2000, 8, 14),\n",
        "         datetime(2000, 8, 15),\n",
        "         datetime(2000, 8, 16),\n",
        "         datetime(2000, 8, 17),\n",
        "         datetime(2000, 8, 18),\n",
        "         datetime(2000, 8, 20),\n",
        "         datetime(2000, 8, 21),\n",
        "         datetime(2000, 8, 22),\n",
        "         datetime(2000, 8, 23),\n",
        "         datetime(2000, 8, 24),\n",
        "         datetime(2000, 8, 25),\n",
        "         datetime(2000, 8, 26),\n",
        "         datetime(2000, 8, 27),\n",
        "         datetime(2000, 8, 28),\n",
        "         datetime(2000, 8, 29),\n",
        "        \n",
        "]\n",
        "y = [1, 2, 1, 1, 1, 1, 1, 1, 1, 1, 1, 1, 2, 2, 3, 3, 2, 1, 2, 2, 2, 2, 3, 3, 1, 2, 1, 6, 9, 16, 15, 5, 1, 16, 22]\n",
        "\n",
        "\n",
        "plt.plot_date(dates, Y, linestyle='solid')\n",
        "plt.gcf().autofmt_xdate()\n",
        "\n",
        "date_format = mpl_dates.DateFormatter('%b, %d %Y')\n",
        "plt.gca().xaxis.set_major_formatter(date_format)\n",
        "plt.tight_layout()\n",
        "plt.show()\n"
      ],
      "metadata": {
        "colab": {
          "base_uri": "https://localhost:8080/",
          "height": 405
        },
        "id": "qGdwOFukYyv3",
        "outputId": "ffbbc94c-eb73-4f57-bb4a-4faac3f98ca9"
      },
      "execution_count": null,
      "outputs": [
        {
          "output_type": "display_data",
          "data": {
            "text/plain": [
              "<Figure size 576x396 with 1 Axes>"
            ],
            "image/png": "[encoded data removed]"
          },
          "metadata": {}
        }
      ]
    },
    {
      "cell_type": "markdown",
      "source": [
        "# Analysis"
      ],
      "metadata": {
        "id": "bzJHsE2UvUyb"
      }
    },
    {
      "cell_type": "markdown",
      "source": [
        "In this investigation, I attempted to examine the number of emails exchange within the company.\n",
        "We may try to examine when every of these mail were sent when we identify the number of email sent. Examine the top ten emails with which Enron employee corresponded the most.\n",
        "\n"
      ],
      "metadata": {
        "id": "4jHp0P-Pvj5K"
      }
    },
    {
      "cell_type": "markdown",
      "source": [
        "# Discussion"
      ],
      "metadata": {
        "id": "J1-_lwyZFBp-"
      }
    },
    {
      "cell_type": "markdown",
      "source": [
        ""
      ],
      "metadata": {
        "id": "GM5dM_cpFGsr"
      }
    },
    {
      "cell_type": "markdown",
      "source": [
        "# Conclusion"
      ],
      "metadata": {
        "id": "b3C5Q72eFHn6"
      }
    },
    {
      "cell_type": "markdown",
      "source": [
        ""
      ],
      "metadata": {
        "id": "d_cKROkhFKlt"
      }
    },
    {
      "cell_type": "markdown",
      "source": [
        "# Reference"
      ],
      "metadata": {
        "id": "zeOSzbdsFLql"
      }
    },
    {
      "cell_type": "markdown",
      "source": [
        ""
      ],
      "metadata": {
        "id": "EK-d59H1FOUy"
      }
    }
  ]
}