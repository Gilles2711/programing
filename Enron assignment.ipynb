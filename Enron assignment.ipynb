{
  "nbformat": 4,
  "nbformat_minor": 0,
  "metadata": {
    "colab": {
      "name": "Untitled4.ipynb",
      "provenance": [],
      "collapsed_sections": [],
      "authorship_tag": "ABX9TyND4LSpWRnfUZcP+YYAdQLV",
      "include_colab_link": true
    },
    "kernelspec": {
      "name": "python3",
      "display_name": "Python 3"
    },
    "language_info": {
      "name": "python"
    }
  },
  "cells": [
    {
      "cell_type": "markdown",
      "metadata": {
        "id": "view-in-github",
        "colab_type": "text"
      },
      "source": [
        "<a href=\"https://colab.research.google.com/github/Gilles2711/programing/blob/main/Enron%20assignment.ipynb\" target=\"_parent\"><img src=\"https://colab.research.google.com/assets/colab-badge.svg\" alt=\"Open In Colab\"/></a>"
      ]
    },
    {
      "cell_type": "markdown",
      "source": [
        "# **Enron Email Analysis**"
      ],
      "metadata": {
        "id": "1H-AA2b3ZTUZ"
      }
    },
    {
      "cell_type": "markdown",
      "source": [
        "# Introduction"
      ],
      "metadata": {
        "id": "RakcQdiKZCy0"
      }
    },
    {
      "cell_type": "markdown",
      "source": [
        ""
      ],
      "metadata": {
        "id": "frttcmusZM1H"
      }
    },
    {
      "cell_type": "markdown",
      "source": [
        "# Coding"
      ],
      "metadata": {
        "id": "YWO72GhJZuej"
      }
    },
    {
      "cell_type": "code",
      "source": [
        "!pip install mysql-connector-python"
      ],
      "metadata": {
        "colab": {
          "base_uri": "https://localhost:8080/"
        },
        "id": "Lxx4mqSbvqsf",
        "outputId": "f117f4de-d610-4384-aea9-f46b35a36a91"
      },
      "execution_count": 1,
      "outputs": [
        {
          "output_type": "stream",
          "name": "stdout",
          "text": [
            "Looking in indexes: https://pypi.org/simple, https://us-python.pkg.dev/colab-wheels/public/simple/\n",
            "Collecting mysql-connector-python\n",
            "  Downloading mysql_connector_python-8.0.29-cp37-cp37m-manylinux1_x86_64.whl (25.2 MB)\n",
            "\u001b[K     |████████████████████████████████| 25.2 MB 1.4 MB/s \n",
            "\u001b[?25hRequirement already satisfied: protobuf>=3.0.0 in /usr/local/lib/python3.7/dist-packages (from mysql-connector-python) (3.17.3)\n",
            "Requirement already satisfied: six>=1.9 in /usr/local/lib/python3.7/dist-packages (from protobuf>=3.0.0->mysql-connector-python) (1.15.0)\n",
            "Installing collected packages: mysql-connector-python\n",
            "Successfully installed mysql-connector-python-8.0.29\n"
          ]
        }
      ]
    },
    {
      "cell_type": "code",
      "source": [
        "#import Enron.db\n",
        "!wget -O enron.db https://curtin-my.sharepoint.com/:u:/g/personal/211934g_curtin_edu_au/EaYagsqa2rBi5wtHbswBH2kd2uTnz6r1ka7GI36GUQ?download=1"
      ],
      "metadata": {
        "colab": {
          "base_uri": "https://localhost:8080/"
        },
        "id": "w-dW6K-8ZzTw",
        "outputId": "cec0465f-90b3-4e24-c3bf-4c34547562a3"
      },
      "execution_count": 2,
      "outputs": [
        {
          "output_type": "stream",
          "name": "stdout",
          "text": [
            "--2022-05-28 17:06:32--  https://curtin-my.sharepoint.com/:u:/g/personal/211934g_curtin_edu_au/EaYagsqa2rBi5wtHbswBH2kd2uTnz6r1ka7GI36GUQ?download=1\n",
            "Resolving curtin-my.sharepoint.com (curtin-my.sharepoint.com)... 13.107.136.9, 13.107.138.9\n",
            "Connecting to curtin-my.sharepoint.com (curtin-my.sharepoint.com)|13.107.136.9|:443... connected.\n",
            "HTTP request sent, awaiting response... 200 OK\n",
            "Length: 106371 (104K) [text/html]\n",
            "Saving to: ‘enron.db’\n",
            "\n",
            "enron.db            100%[===================>] 103.88K   243KB/s    in 0.4s    \n",
            "\n",
            "2022-05-28 17:06:34 (243 KB/s) - ‘enron.db’ saved [106371/106371]\n",
            "\n"
          ]
        }
      ]
    },
    {
      "cell_type": "code",
      "source": [
        "# Import sqlite3 & Pandas\n",
        "import sqlite3\n",
        "import pandas"
      ],
      "metadata": {
        "id": "KRxpS-SSa_PB"
      },
      "execution_count": 3,
      "outputs": []
    },
    {
      "cell_type": "code",
      "source": [
        "#create & connection & cursor object\n",
        "conn = sqlite3.connect('/content/extract (2).db')\n",
        "cur = conn.cursor()"
      ],
      "metadata": {
        "id": "waIna5lkbPbJ"
      },
      "execution_count": 4,
      "outputs": []
    },
    {
      "cell_type": "code",
      "source": [
        "#Create Message table\n",
        "sql = \"\"\"\n",
        "create table if not exists Message(\n",
        "  mid INT PRIMARY KEY,\n",
        "  Sender TEXT,\n",
        "  Date REAL,\n",
        "  Subject TEXT,\n",
        "  Message_ID REAL,\n",
        "  Body TEXT,\n",
        "  Folder TEXT\n",
        ");\n",
        "\"\"\"\n",
        "# Execute query & commit transaction\n",
        "cur.execute(sql)\n",
        "conn.commit()"
      ],
      "metadata": {
        "id": "hPIH9nMldYWI"
      },
      "execution_count": 5,
      "outputs": []
    },
    {
      "cell_type": "code",
      "source": [
        "#create Recipient info table\n",
        "sql = \"\"\"\n",
        "CREATE TABLE IF NOT EXISTS RecipientInfo(\n",
        "  rid TEXT PRIMARY KEY,\n",
        "  mid TEXT,\n",
        "  Rtype REAL,\n",
        "  Rvalue TEXT\n",
        ");\n",
        "\"\"\"\n",
        "#Execute query & commit transaction\n",
        "cur.execute(sql)\n",
        "conn.commit()"
      ],
      "metadata": {
        "id": "IF4nio-KeehO"
      },
      "execution_count": 6,
      "outputs": []
    },
    {
      "cell_type": "code",
      "source": [
        "# create Reference info table\n",
        "sql = \"\"\"\n",
        "CREATE TABLE IF NOT EXISTS ReferenceInfo(\n",
        "  Rfid TEXT PRIMARY KEY,\n",
        "  mid TEXT,\n",
        "  Reference REAL\n",
        ");\n",
        "\"\"\"\n",
        "#Execute query & commit transaction\n",
        "cur.execute(sql)\n",
        "conn.commit()"
      ],
      "metadata": {
        "id": "1wVlUAQTfiRf"
      },
      "execution_count": 7,
      "outputs": []
    },
    {
      "cell_type": "markdown",
      "source": [
        "## Emails sent by senders"
      ],
      "metadata": {
        "id": "DsdCO22MhwIY"
      }
    },
    {
      "cell_type": "code",
      "source": [
        " sql1 = \"\"\"\n",
        "SELECT sender, count(mid) AS message_count\n",
        " FROM message\n",
        " GROUP BY sender\n",
        " ORDER BY message_count\n",
        " DESC\n",
        " LIMIT 10\n",
        " ;\n",
        "\"\"\"\n",
        "#Execute sql query\n",
        "rows = cur.execute(sql1)\n",
        "for row in rows:\n",
        "  print(row)"
      ],
      "metadata": {
        "id": "OW4RkNGUmN0V",
        "colab": {
          "base_uri": "https://localhost:8080/"
        },
        "outputId": "09adc349-01b2-4c7a-ca76-49a88e06826a"
      },
      "execution_count": 8,
      "outputs": [
        {
          "output_type": "stream",
          "name": "stdout",
          "text": [
            "('carla.hoffman@enron.com', 15)\n",
            "('office.chairman@enron.com', 10)\n",
            "('enron.announcements@enron.com', 9)\n",
            "('crcommunications@caiso.com', 8)\n",
            "('awe@caiso.com', 7)\n",
            "('cgrant@caiso.com', 6)\n",
            "('shari.stack@enron.com', 5)\n",
            "('bwoertz@caiso.com', 4)\n",
            "('jblatchford@caiso.com', 4)\n",
            "('shapp@caiso.com', 4)\n"
          ]
        }
      ]
    },
    {
      "cell_type": "code",
      "source": [
        "from google.colab import drive\n",
        "drive.mount('/content/drive')"
      ],
      "metadata": {
        "id": "JAsIsIepyGfn"
      },
      "execution_count": null,
      "outputs": []
    },
    {
      "cell_type": "markdown",
      "source": [
        "# Message send per day"
      ],
      "metadata": {
        "id": "KbVWlywPnByX"
      }
    },
    {
      "cell_type": "code",
      "source": [
        "sql = \"\"\"\n",
        "SELECT date(Date) AS date_emailsent, count(mid) AS message_count\n",
        "     FROM message\n",
        "     GROUP BY date_emailsent\n",
        "     ORDER BY date_emailsent;\n",
        "\"\"\"\n",
        "#Execute SQL query\n",
        "rows = cur.execute(sql)\n",
        "for row in rows:\n",
        "  print(row)"
      ],
      "metadata": {
        "id": "ETEqAMFqnJ10",
        "colab": {
          "base_uri": "https://localhost:8080/"
        },
        "outputId": "ac27513a-7103-4f73-d6a2-854d95722b3b"
      },
      "execution_count": 10,
      "outputs": [
        {
          "output_type": "stream",
          "name": "stdout",
          "text": [
            "('2000-01-21', 1)\n",
            "('2000-01-24', 2)\n",
            "('2000-02-02', 1)\n",
            "('2000-02-07', 1)\n",
            "('2000-05-17', 1)\n",
            "('2000-05-21', 1)\n",
            "('2000-06-07', 1)\n",
            "('2000-06-21', 1)\n",
            "('2000-06-27', 1)\n",
            "('2000-07-10', 1)\n",
            "('2000-07-25', 1)\n",
            "('2000-07-27', 1)\n",
            "('2000-07-31', 2)\n",
            "('2000-08-02', 2)\n",
            "('2000-08-03', 3)\n",
            "('2000-08-04', 3)\n",
            "('2000-08-07', 2)\n",
            "('2000-08-08', 1)\n",
            "('2000-08-09', 2)\n",
            "('2000-08-11', 2)\n",
            "('2000-08-14', 2)\n",
            "('2000-08-15', 2)\n",
            "('2000-08-16', 3)\n",
            "('2000-08-17', 3)\n",
            "('2000-08-18', 1)\n",
            "('2000-08-20', 2)\n",
            "('2000-08-21', 1)\n",
            "('2000-08-22', 6)\n",
            "('2000-08-23', 9)\n",
            "('2000-08-24', 16)\n",
            "('2000-08-25', 15)\n",
            "('2000-08-26', 5)\n",
            "('2000-08-27', 1)\n",
            "('2000-08-28', 16)\n",
            "('2000-08-29', 22)\n"
          ]
        }
      ]
    },
    {
      "cell_type": "code",
      "source": [
        "import pandas as pd\n",
        "sql = \"\"\"\n",
        "SELECT date(date) AS date_emailsent,count(mid) AS MESSAGE_COUNT\n",
        "     FROM message\n",
        "     GROUP BY date_emailsent\n",
        "     ORDER BY date_emailsent;\n",
        "\"\"\"\n",
        "#Dataframe\n",
        "note_df = pd.read_sql_query(sql,conn)\n",
        "note_df"
      ],
      "metadata": {
        "colab": {
          "base_uri": "https://localhost:8080/",
          "height": 1000
        },
        "id": "QsExb-qSrRaZ",
        "outputId": "91c8ba64-ce59-4fbd-edc5-1945843d5b6f"
      },
      "execution_count": 11,
      "outputs": [
        {
          "output_type": "execute_result",
          "data": {
            "text/plain": [
              "   date_emailsent  MESSAGE_COUNT\n",
              "0      2000-01-21              1\n",
              "1      2000-01-24              2\n",
              "2      2000-02-02              1\n",
              "3      2000-02-07              1\n",
              "4      2000-05-17              1\n",
              "5      2000-05-21              1\n",
              "6      2000-06-07              1\n",
              "7      2000-06-21              1\n",
              "8      2000-06-27              1\n",
              "9      2000-07-10              1\n",
              "10     2000-07-25              1\n",
              "11     2000-07-27              1\n",
              "12     2000-07-31              2\n",
              "13     2000-08-02              2\n",
              "14     2000-08-03              3\n",
              "15     2000-08-04              3\n",
              "16     2000-08-07              2\n",
              "17     2000-08-08              1\n",
              "18     2000-08-09              2\n",
              "19     2000-08-11              2\n",
              "20     2000-08-14              2\n",
              "21     2000-08-15              2\n",
              "22     2000-08-16              3\n",
              "23     2000-08-17              3\n",
              "24     2000-08-18              1\n",
              "25     2000-08-20              2\n",
              "26     2000-08-21              1\n",
              "27     2000-08-22              6\n",
              "28     2000-08-23              9\n",
              "29     2000-08-24             16\n",
              "30     2000-08-25             15\n",
              "31     2000-08-26              5\n",
              "32     2000-08-27              1\n",
              "33     2000-08-28             16\n",
              "34     2000-08-29             22"
            ],
            "text/html": [
              "\n",
              "  <div id=\"df-d936148c-b7b0-4077-9408-6497a7c5a825\">\n",
              "    <div class=\"colab-df-container\">\n",
              "      <div>\n",
              "<style scoped>\n",
              "    .dataframe tbody tr th:only-of-type {\n",
              "        vertical-align: middle;\n",
              "    }\n",
              "\n",
              "    .dataframe tbody tr th {\n",
              "        vertical-align: top;\n",
              "    }\n",
              "\n",
              "    .dataframe thead th {\n",
              "        text-align: right;\n",
              "    }\n",
              "</style>\n",
              "<table border=\"1\" class=\"dataframe\">\n",
              "  <thead>\n",
              "    <tr style=\"text-align: right;\">\n",
              "      <th></th>\n",
              "      <th>date_emailsent</th>\n",
              "      <th>MESSAGE_COUNT</th>\n",
              "    </tr>\n",
              "  </thead>\n",
              "  <tbody>\n",
              "    <tr>\n",
              "      <th>0</th>\n",
              "      <td>2000-01-21</td>\n",
              "      <td>1</td>\n",
              "    </tr>\n",
              "    <tr>\n",
              "      <th>1</th>\n",
              "      <td>2000-01-24</td>\n",
              "      <td>2</td>\n",
              "    </tr>\n",
              "    <tr>\n",
              "      <th>2</th>\n",
              "      <td>2000-02-02</td>\n",
              "      <td>1</td>\n",
              "    </tr>\n",
              "    <tr>\n",
              "      <th>3</th>\n",
              "      <td>2000-02-07</td>\n",
              "      <td>1</td>\n",
              "    </tr>\n",
              "    <tr>\n",
              "      <th>4</th>\n",
              "      <td>2000-05-17</td>\n",
              "      <td>1</td>\n",
              "    </tr>\n",
              "    <tr>\n",
              "      <th>5</th>\n",
              "      <td>2000-05-21</td>\n",
              "      <td>1</td>\n",
              "    </tr>\n",
              "    <tr>\n",
              "      <th>6</th>\n",
              "      <td>2000-06-07</td>\n",
              "      <td>1</td>\n",
              "    </tr>\n",
              "    <tr>\n",
              "      <th>7</th>\n",
              "      <td>2000-06-21</td>\n",
              "      <td>1</td>\n",
              "    </tr>\n",
              "    <tr>\n",
              "      <th>8</th>\n",
              "      <td>2000-06-27</td>\n",
              "      <td>1</td>\n",
              "    </tr>\n",
              "    <tr>\n",
              "      <th>9</th>\n",
              "      <td>2000-07-10</td>\n",
              "      <td>1</td>\n",
              "    </tr>\n",
              "    <tr>\n",
              "      <th>10</th>\n",
              "      <td>2000-07-25</td>\n",
              "      <td>1</td>\n",
              "    </tr>\n",
              "    <tr>\n",
              "      <th>11</th>\n",
              "      <td>2000-07-27</td>\n",
              "      <td>1</td>\n",
              "    </tr>\n",
              "    <tr>\n",
              "      <th>12</th>\n",
              "      <td>2000-07-31</td>\n",
              "      <td>2</td>\n",
              "    </tr>\n",
              "    <tr>\n",
              "      <th>13</th>\n",
              "      <td>2000-08-02</td>\n",
              "      <td>2</td>\n",
              "    </tr>\n",
              "    <tr>\n",
              "      <th>14</th>\n",
              "      <td>2000-08-03</td>\n",
              "      <td>3</td>\n",
              "    </tr>\n",
              "    <tr>\n",
              "      <th>15</th>\n",
              "      <td>2000-08-04</td>\n",
              "      <td>3</td>\n",
              "    </tr>\n",
              "    <tr>\n",
              "      <th>16</th>\n",
              "      <td>2000-08-07</td>\n",
              "      <td>2</td>\n",
              "    </tr>\n",
              "    <tr>\n",
              "      <th>17</th>\n",
              "      <td>2000-08-08</td>\n",
              "      <td>1</td>\n",
              "    </tr>\n",
              "    <tr>\n",
              "      <th>18</th>\n",
              "      <td>2000-08-09</td>\n",
              "      <td>2</td>\n",
              "    </tr>\n",
              "    <tr>\n",
              "      <th>19</th>\n",
              "      <td>2000-08-11</td>\n",
              "      <td>2</td>\n",
              "    </tr>\n",
              "    <tr>\n",
              "      <th>20</th>\n",
              "      <td>2000-08-14</td>\n",
              "      <td>2</td>\n",
              "    </tr>\n",
              "    <tr>\n",
              "      <th>21</th>\n",
              "      <td>2000-08-15</td>\n",
              "      <td>2</td>\n",
              "    </tr>\n",
              "    <tr>\n",
              "      <th>22</th>\n",
              "      <td>2000-08-16</td>\n",
              "      <td>3</td>\n",
              "    </tr>\n",
              "    <tr>\n",
              "      <th>23</th>\n",
              "      <td>2000-08-17</td>\n",
              "      <td>3</td>\n",
              "    </tr>\n",
              "    <tr>\n",
              "      <th>24</th>\n",
              "      <td>2000-08-18</td>\n",
              "      <td>1</td>\n",
              "    </tr>\n",
              "    <tr>\n",
              "      <th>25</th>\n",
              "      <td>2000-08-20</td>\n",
              "      <td>2</td>\n",
              "    </tr>\n",
              "    <tr>\n",
              "      <th>26</th>\n",
              "      <td>2000-08-21</td>\n",
              "      <td>1</td>\n",
              "    </tr>\n",
              "    <tr>\n",
              "      <th>27</th>\n",
              "      <td>2000-08-22</td>\n",
              "      <td>6</td>\n",
              "    </tr>\n",
              "    <tr>\n",
              "      <th>28</th>\n",
              "      <td>2000-08-23</td>\n",
              "      <td>9</td>\n",
              "    </tr>\n",
              "    <tr>\n",
              "      <th>29</th>\n",
              "      <td>2000-08-24</td>\n",
              "      <td>16</td>\n",
              "    </tr>\n",
              "    <tr>\n",
              "      <th>30</th>\n",
              "      <td>2000-08-25</td>\n",
              "      <td>15</td>\n",
              "    </tr>\n",
              "    <tr>\n",
              "      <th>31</th>\n",
              "      <td>2000-08-26</td>\n",
              "      <td>5</td>\n",
              "    </tr>\n",
              "    <tr>\n",
              "      <th>32</th>\n",
              "      <td>2000-08-27</td>\n",
              "      <td>1</td>\n",
              "    </tr>\n",
              "    <tr>\n",
              "      <th>33</th>\n",
              "      <td>2000-08-28</td>\n",
              "      <td>16</td>\n",
              "    </tr>\n",
              "    <tr>\n",
              "      <th>34</th>\n",
              "      <td>2000-08-29</td>\n",
              "      <td>22</td>\n",
              "    </tr>\n",
              "  </tbody>\n",
              "</table>\n",
              "</div>\n",
              "      <button class=\"colab-df-convert\" onclick=\"convertToInteractive('df-d936148c-b7b0-4077-9408-6497a7c5a825')\"\n",
              "              title=\"Convert this dataframe to an interactive table.\"\n",
              "              style=\"display:none;\">\n",
              "        \n",
              "  <svg xmlns=\"http://www.w3.org/2000/svg\" height=\"24px\"viewBox=\"0 0 24 24\"\n",
              "       width=\"24px\">\n",
              "    <path d=\"M0 0h24v24H0V0z\" fill=\"none\"/>\n",
              "    <path d=\"M18.56 5.44l.94 2.06.94-2.06 2.06-.94-2.06-.94-.94-2.06-.94 2.06-2.06.94zm-11 1L8.5 8.5l.94-2.06 2.06-.94-2.06-.94L8.5 2.5l-.94 2.06-2.06.94zm10 10l.94 2.06.94-2.06 2.06-.94-2.06-.94-.94-2.06-.94 2.06-2.06.94z\"/><path d=\"M17.41 7.96l-1.37-1.37c-.4-.4-.92-.59-1.43-.59-.52 0-1.04.2-1.43.59L10.3 9.45l-7.72 7.72c-.78.78-.78 2.05 0 2.83L4 21.41c.39.39.9.59 1.41.59.51 0 1.02-.2 1.41-.59l7.78-7.78 2.81-2.81c.8-.78.8-2.07 0-2.86zM5.41 20L4 18.59l7.72-7.72 1.47 1.35L5.41 20z\"/>\n",
              "  </svg>\n",
              "      </button>\n",
              "      \n",
              "  <style>\n",
              "    .colab-df-container {\n",
              "      display:flex;\n",
              "      flex-wrap:wrap;\n",
              "      gap: 12px;\n",
              "    }\n",
              "\n",
              "    .colab-df-convert {\n",
              "      background-color: #E8F0FE;\n",
              "      border: none;\n",
              "      border-radius: 50%;\n",
              "      cursor: pointer;\n",
              "      display: none;\n",
              "      fill: #1967D2;\n",
              "      height: 32px;\n",
              "      padding: 0 0 0 0;\n",
              "      width: 32px;\n",
              "    }\n",
              "\n",
              "    .colab-df-convert:hover {\n",
              "      background-color: #E2EBFA;\n",
              "      box-shadow: 0px 1px 2px rgba(60, 64, 67, 0.3), 0px 1px 3px 1px rgba(60, 64, 67, 0.15);\n",
              "      fill: #174EA6;\n",
              "    }\n",
              "\n",
              "    [theme=dark] .colab-df-convert {\n",
              "      background-color: #3B4455;\n",
              "      fill: #D2E3FC;\n",
              "    }\n",
              "\n",
              "    [theme=dark] .colab-df-convert:hover {\n",
              "      background-color: #434B5C;\n",
              "      box-shadow: 0px 1px 3px 1px rgba(0, 0, 0, 0.15);\n",
              "      filter: drop-shadow(0px 1px 2px rgba(0, 0, 0, 0.3));\n",
              "      fill: #FFFFFF;\n",
              "    }\n",
              "  </style>\n",
              "\n",
              "      <script>\n",
              "        const buttonEl =\n",
              "          document.querySelector('#df-d936148c-b7b0-4077-9408-6497a7c5a825 button.colab-df-convert');\n",
              "        buttonEl.style.display =\n",
              "          google.colab.kernel.accessAllowed ? 'block' : 'none';\n",
              "\n",
              "        async function convertToInteractive(key) {\n",
              "          const element = document.querySelector('#df-d936148c-b7b0-4077-9408-6497a7c5a825');\n",
              "          const dataTable =\n",
              "            await google.colab.kernel.invokeFunction('convertToInteractive',\n",
              "                                                     [key], {});\n",
              "          if (!dataTable) return;\n",
              "\n",
              "          const docLinkHtml = 'Like what you see? Visit the ' +\n",
              "            '<a target=\"_blank\" href=https://colab.research.google.com/notebooks/data_table.ipynb>data table notebook</a>'\n",
              "            + ' to learn more about interactive tables.';\n",
              "          element.innerHTML = '';\n",
              "          dataTable['output_type'] = 'display_data';\n",
              "          await google.colab.output.renderOutput(dataTable, element);\n",
              "          const docLink = document.createElement('div');\n",
              "          docLink.innerHTML = docLinkHtml;\n",
              "          element.appendChild(docLink);\n",
              "        }\n",
              "      </script>\n",
              "    </div>\n",
              "  </div>\n",
              "  "
            ]
          },
          "metadata": {},
          "execution_count": 11
        }
      ]
    },
    {
      "cell_type": "markdown",
      "source": [
        "# Graph plot"
      ],
      "metadata": {
        "id": "W3bPbILdz_p0"
      }
    },
    {
      "cell_type": "code",
      "source": [
        "import pandas as pd\n",
        "import matplotlib.pyplot as plt"
      ],
      "metadata": {
        "id": "lN2VrM8l0DR3"
      },
      "execution_count": 12,
      "outputs": []
    },
    {
      "cell_type": "code",
      "source": [
        "import pandas as pd\n",
        "from datetime import datetime, timedelta\n",
        "from matplotlib import pyplot as plt\n",
        "from matplotlib import dates as mpl_dates\n",
        "plt.style.use('seaborn')\n",
        "dates = [\n",
        "         datetime(2000, 1, 21),\n",
        "         datetime(2000, 1, 24),\n",
        "         datetime(2000, 2, 2),\n",
        "         datetime(2000, 2, 7),\n",
        "         datetime(2000,5 ,17),\n",
        "         datetime(2000, 5, 21),\n",
        "         datetime(2000, 6, 7),\n",
        "         datetime(2000, 6, 21),\n",
        "         datetime(2000, 6, 27),\n",
        "         datetime(2000, 7, 10),\n",
        "         datetime(2000, 7, 25),\n",
        "         datetime(2000, 7, 27),\n",
        "         datetime(2000, 7, 31),\n",
        "         datetime(2000, 8, 2),\n",
        "         datetime(2000, 8, 3),\n",
        "         datetime(2000, 8, 4),\n",
        "         datetime(2000, 8, 7),\n",
        "         datetime(2000, 8, 8),\n",
        "         datetime(2000, 8, 9),\n",
        "         datetime(2000, 8, 11),\n",
        "         datetime(2000, 8, 14),\n",
        "         datetime(2000, 8, 15),\n",
        "         datetime(2000, 8, 16),\n",
        "         datetime(2000, 8, 17),\n",
        "         datetime(2000, 8, 18),\n",
        "         datetime(2000, 8, 20),\n",
        "         datetime(2000, 8, 21),\n",
        "         datetime(2000, 8, 22),\n",
        "         datetime(2000, 8, 23),\n",
        "         datetime(2000, 8, 24),\n",
        "         datetime(2000, 8, 25),\n",
        "         datetime(2000, 8, 26),\n",
        "         datetime(2000, 8, 27),\n",
        "         datetime(2000, 8, 28),\n",
        "         datetime(2000, 8, 29),\n",
        "        \n",
        "]\n",
        "y = [1, 2, 1, 1, 1, 1, 1, 1, 1, 1, 1, 1, 2, 2, 3, 3, 2, 1, 2, 2, 2, 2, 3, 3, 1, 2, 1, 6, 9, 16, 15, 5, 1, 16, 22]\n",
        "\n",
        "\n",
        "plt.plot_date(dates, Y, linestyle='solid')\n",
        "plt.gcf().autofmt_xdate()\n",
        "\n",
        "date_format = mpl_dates.DateFormatter('%b, %d %Y')\n",
        "plt.gca().xaxis.set_major_formatter(date_format)\n",
        "plt.tight_layout()\n",
        "plt.show()\n"
      ],
      "metadata": {
        "colab": {
          "base_uri": "https://localhost:8080/",
          "height": 346
        },
        "id": "qGdwOFukYyv3",
        "outputId": "416b9daf-5ee7-4bf1-809f-f38be590de20"
      },
      "execution_count": 20,
      "outputs": [
        {
          "output_type": "display_data",
          "data": {
            "text/plain": [
              "<Figure size 576x396 with 1 Axes>"
            ],
            "image/png": "[encoded data removed]"
          },
          "metadata": {}
        }
      ]
    }
  ]
}