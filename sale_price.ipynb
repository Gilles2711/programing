{
  "nbformat": 4,
  "nbformat_minor": 0,
  "metadata": {
    "colab": {
      "name": "sale_price.ipynb",
      "provenance": [],
      "include_colab_link": true
    },
    "kernelspec": {
      "name": "python3",
      "display_name": "Python 3"
    },
    "language_info": {
      "name": "python"
    }
  },
  "cells": [
    {
      "cell_type": "markdown",
      "metadata": {
        "id": "view-in-github",
        "colab_type": "text"
      },
      "source": [
        "<a href=\"https://colab.research.google.com/github/Gilles2711/programing/blob/main/sale_price.ipynb\" target=\"_parent\"><img src=\"https://colab.research.google.com/assets/colab-badge.svg\" alt=\"Open In Colab\"/></a>"
      ]
    },
    {
      "cell_type": "markdown",
      "metadata": {
        "id": "cgTeiXOtSPjH"
      },
      "source": [
        "# Sales Price\n",
        "\n",
        "A local department store needs to develop a program that will computer the total price (including goods and services tax) of the item on sale when given an item's original price and discount percentage.\n",
        "\n",
        "## Tasks\n",
        "* Save to Github\n",
        "* Design Algorithm\n",
        "* Write and test the program in Python"
      ]
    },
    {
      "cell_type": "code",
      "metadata": {
        "id": "pPIN2ZcrSqdw",
        "outputId": "b3895c23-1239-4a40-d605-9cc4f76b6f73",
        "colab": {
          "base_uri": "https://localhost:8080/"
        }
      },
      "source": [
        "def calculate_totalprice(originalprice, discount, tax):\n",
        "  discountedprice = originalprice - (originalprice * discount)\n",
        "  taxamount = tax * discountedprice\n",
        "  totalprice = discountedprice + taxamount\n",
        "  print('The original price for the product is:', originalprice)\n",
        "  print('The Discounted price for the product is:', discountedprice)\n",
        "  print('The Tax charged for the productis:', taxamount)\n",
        "  print('The total price of the product is:', totalprice)\n",
        "calculate_totalprice(60, 0.8, 0.09)\n"
      ],
      "execution_count": 2,
      "outputs": [
        {
          "output_type": "stream",
          "name": "stdout",
          "text": [
            "The original price for the product is: 60\n",
            "The Discounted price for the product is: 12.0\n",
            "The Tax charged for the productis: 1.08\n",
            "The total price of the product is: 13.08\n"
          ]
        }
      ]
    }
  ]
}