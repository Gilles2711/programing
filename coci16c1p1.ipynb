{
  "nbformat": 4,
  "nbformat_minor": 0,
  "metadata": {
    "colab": {
      "name": "Untitled0.ipynb",
      "provenance": [],
      "authorship_tag": "ABX9TyOl6jp3Opc4lVWiBhiXwGxQ",
      "include_colab_link": true
    },
    "kernelspec": {
      "name": "python3",
      "display_name": "Python 3"
    },
    "language_info": {
      "name": "python"
    }
  },
  "cells": [
    {
      "cell_type": "markdown",
      "metadata": {
        "id": "view-in-github",
        "colab_type": "text"
      },
      "source": [
        "<a href=\"https://colab.research.google.com/github/Gilles2711/programing/blob/main/coci16c1p1.ipynb\" target=\"_parent\"><img src=\"https://colab.research.google.com/assets/colab-badge.svg\" alt=\"Open In Colab\"/></a>"
      ]
    },
    {
      "cell_type": "code",
      "execution_count": 2,
      "metadata": {
        "colab": {
          "base_uri": "https://localhost:8080/"
        },
        "id": "bdCsd5pH0vdU",
        "outputId": "77d4cb07-f208-41c6-f37f-f6eb6488fdc2"
      },
      "outputs": [
        {
          "output_type": "stream",
          "name": "stdout",
          "text": [
            "enter value :10\n",
            "Enter no of month3\n",
            "Enter value mega used: 6\n",
            "Enter value mega used: 4\n",
            "Enter value mega used: 2\n",
            "Total mega available for N+1 28\n"
          ]
        }
      ],
      "source": [
        "monthly_megab = int(input(\"enter value :\"))\n",
        "months = int(input(\"Enter no of month\"))\n",
        "\n",
        "\n",
        "total = monthly_megab * (months + 1)\n",
        "\n",
        "for i in range(months):\n",
        "  # used = input amount of megab used\n",
        "  used = int(input(\"Enter value mega used: \"))\n",
        "  # calculate total\n",
        "  total = total - used\n",
        "  # print total\n",
        "\n",
        "print(\"Total mega available for N+1\" , total)"
      ]
    }
  ]
}